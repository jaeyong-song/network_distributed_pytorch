{
 "cells": [
  {
   "cell_type": "markdown",
   "metadata": {
    "id": "APjloNtd60lg"
   },
   "source": [
    "# (experimental) Dynamic Quantization on BERT"
   ]
  },
  {
   "cell_type": "markdown",
   "metadata": {
    "id": "DrnCAcuKsQME"
   },
   "source": [
    "**Author**: [Jianyu Huang](https://github.com/jianyuh)\n",
    "\n",
    "**Reviewed by**: [Raghuraman Krishnamoorthi](https://github.com/raghuramank100)\n",
    "\n",
    "**Edited by**: [Jessica Lin](https://)"
   ]
  },
  {
   "cell_type": "markdown",
   "metadata": {
    "id": "ZQAYu8CAIgNn"
   },
   "source": [
    "# Introduction\n",
    "\n",
    "\n",
    "In this tutorial, we will apply the dynamic quantization on a BERT\n",
    "model, closely following the BERT model from [the HuggingFace\n",
    "Transformers examples](https://github.com/huggingface/transformers).\n",
    "With this step-by-step journey, we would like to demonstrate how to\n",
    "convert a well-known state-of-the-art model like BERT into dynamic\n",
    "quantized model.\n",
    "\n",
    "-  BERT, or Bidirectional Embedding Representations from Transformers,\n",
    "   is a new method of pre-training language representations which\n",
    "   achieves the state-of-the-art accuracy results on many popular\n",
    "   Natural Language Processing (NLP) tasks, such as question answering,\n",
    "   text classification, and others. The original paper can be found\n",
    "   [here](https://arxiv.org/pdf/1810.04805.pdf).\n",
    "\n",
    "-  Dynamic quantization support in PyTorch converts a float model to a\n",
    "   quantized model with static int8 or float16 data types for the\n",
    "   weights and dynamic quantization for the activations. The activations\n",
    "   are quantized dynamically (per batch) to int8 when the weights are\n",
    "   quantized to int8. In PyTorch, we have [torch.quantization.quantize_dynamic API](https://pytorch.org/docs/stable/quantization.html#torch.quantization.quantize_dynamic),\n",
    "   which replaces specified modules with dynamic weight-only quantized\n",
    "   versions and output the quantized model.\n",
    "\n",
    "-  We demonstrate the accuracy and inference performance results on the\n",
    "   [Microsoft Research Paraphrase Corpus (MRPC) task](https://www.microsoft.com/en-us/download/details.aspx?id=52398)\n",
    "   in the General Language Understanding Evaluation benchmark [(GLUE)](https://gluebenchmark.com/). The MRPC (Dolan and Brockett, 2005) is\n",
    "   a corpus of sentence pairs automatically extracted from online news\n",
    "   sources, with human annotations of whether the sentences in the pair\n",
    "   are semantically equivalent. As the classes are imbalanced (68%\n",
    "   positive, 32% negative), we follow the common practice and report [F1 score](https://scikit-learn.org/stable/modules/generated/sklearn.metrics.f1_score.html).\n",
    "   MRPC is a common NLP task for language pair classification, as shown\n",
    "   below.\n",
    "\n",
    "<!-- ![BERT for setence pair classification](https://drive.google.com/file/d/1m_VcRJNuMBwnrx3f0OShX6ffLyoEOJPC/view?usp=sharing). -->\n",
    "\n",
    "![BERT for setence pair classification](https://gluon-nlp.mxnet.io/_images/bert-sentence-pair.png)\n",
    "\n",
    "\n",
    "<!-- ![alt text](https://drive.google.com/file/d/1NJIWxtY39pBl0KUCOCMF5vpfuWLlSKf8/view?usp=sharing) -->\n",
    "\n",
    "\n",
    "\n",
    "\n",
    "\n",
    "\n"
   ]
  },
  {
   "cell_type": "markdown",
   "metadata": {
    "id": "_we9RtJTIgNp"
   },
   "source": [
    "# 1. Setup\n",
    "## 1.1 Install PyTorch and HuggingFace Transformers\n",
    "\n",
    "\n",
    "To start this tutorial, let’s first follow the installation instructions in PyTorch [here](https://github.com/pytorch/pytorch/#installation) and HuggingFace Github Repo [here](https://github.com/huggingface/transformers#installation). In addition, we also install [scikit-learn](https://github.com/scikit-learn/scikit-learn) package, as we will reuse its built-in F1 score calculation helper function.\n"
   ]
  },
  {
   "cell_type": "code",
   "execution_count": 1,
   "metadata": {
    "colab": {
     "base_uri": "https://localhost:8080/",
     "height": 667
    },
    "id": "wKRaaq8FIm3o",
    "outputId": "9f332a42-e379-405c-adb7-74d024eea26b"
   },
   "outputs": [
    {
     "name": "stdout",
     "output_type": "stream",
     "text": [
      "Requirement already satisfied: sklearn in /nfs/home/seonbinara/anaconda3/lib/python3.8/site-packages (0.0)\n",
      "Requirement already satisfied: scikit-learn in /nfs/home/seonbinara/anaconda3/lib/python3.8/site-packages (from sklearn) (0.23.1)\n",
      "Requirement already satisfied: scipy>=0.19.1 in /nfs/home/seonbinara/anaconda3/lib/python3.8/site-packages (from scikit-learn->sklearn) (1.5.0)\n",
      "Requirement already satisfied: joblib>=0.11 in /nfs/home/seonbinara/anaconda3/lib/python3.8/site-packages (from scikit-learn->sklearn) (0.16.0)\n",
      "Requirement already satisfied: threadpoolctl>=2.0.0 in /nfs/home/seonbinara/anaconda3/lib/python3.8/site-packages (from scikit-learn->sklearn) (2.1.0)\n",
      "Requirement already satisfied: numpy>=1.13.3 in /nfs/home/seonbinara/anaconda3/lib/python3.8/site-packages (from scikit-learn->sklearn) (1.19.5)\n",
      "\u001b[33mWARNING: You are using pip version 21.2.3; however, version 21.2.4 is available.\n",
      "You should consider upgrading via the '/nfs/home/seonbinara/anaconda3/bin/python -m pip install --upgrade pip' command.\u001b[0m\n",
      "Requirement already satisfied: transformers in /nfs/home/seonbinara/anaconda3/lib/python3.8/site-packages (4.9.2)\n",
      "Requirement already satisfied: numpy>=1.17 in /nfs/home/seonbinara/anaconda3/lib/python3.8/site-packages (from transformers) (1.19.5)\n",
      "Requirement already satisfied: regex!=2019.12.17 in /nfs/home/seonbinara/anaconda3/lib/python3.8/site-packages (from transformers) (2020.6.8)\n",
      "Requirement already satisfied: tokenizers<0.11,>=0.10.1 in /nfs/home/seonbinara/anaconda3/lib/python3.8/site-packages (from transformers) (0.10.3)\n",
      "Requirement already satisfied: sacremoses in /nfs/home/seonbinara/anaconda3/lib/python3.8/site-packages (from transformers) (0.0.45)\n",
      "Requirement already satisfied: tqdm>=4.27 in /nfs/home/seonbinara/anaconda3/lib/python3.8/site-packages (from transformers) (4.47.0)\n",
      "Requirement already satisfied: filelock in /nfs/home/seonbinara/anaconda3/lib/python3.8/site-packages (from transformers) (3.0.12)\n",
      "Requirement already satisfied: packaging in /nfs/home/seonbinara/anaconda3/lib/python3.8/site-packages (from transformers) (21.0)\n",
      "Requirement already satisfied: requests in /nfs/home/seonbinara/anaconda3/lib/python3.8/site-packages (from transformers) (2.24.0)\n",
      "Requirement already satisfied: huggingface-hub==0.0.12 in /nfs/home/seonbinara/anaconda3/lib/python3.8/site-packages (from transformers) (0.0.12)\n",
      "Requirement already satisfied: pyyaml>=5.1 in /nfs/home/seonbinara/anaconda3/lib/python3.8/site-packages (from transformers) (5.3.1)\n",
      "Requirement already satisfied: typing-extensions in /nfs/home/seonbinara/anaconda3/lib/python3.8/site-packages (from huggingface-hub==0.0.12->transformers) (3.7.4.2)\n",
      "Requirement already satisfied: pyparsing>=2.0.2 in /nfs/home/seonbinara/anaconda3/lib/python3.8/site-packages (from packaging->transformers) (2.4.7)\n",
      "Requirement already satisfied: chardet<4,>=3.0.2 in /nfs/home/seonbinara/anaconda3/lib/python3.8/site-packages (from requests->transformers) (3.0.4)\n",
      "Requirement already satisfied: certifi>=2017.4.17 in /nfs/home/seonbinara/anaconda3/lib/python3.8/site-packages (from requests->transformers) (2020.6.20)\n",
      "Requirement already satisfied: idna<3,>=2.5 in /nfs/home/seonbinara/anaconda3/lib/python3.8/site-packages (from requests->transformers) (2.10)\n",
      "Requirement already satisfied: urllib3!=1.25.0,!=1.25.1,<1.26,>=1.21.1 in /nfs/home/seonbinara/anaconda3/lib/python3.8/site-packages (from requests->transformers) (1.25.9)\n",
      "Requirement already satisfied: six in /nfs/home/seonbinara/anaconda3/lib/python3.8/site-packages (from sacremoses->transformers) (1.15.0)\n",
      "Requirement already satisfied: click in /nfs/home/seonbinara/anaconda3/lib/python3.8/site-packages (from sacremoses->transformers) (7.1.2)\n",
      "Requirement already satisfied: joblib in /nfs/home/seonbinara/anaconda3/lib/python3.8/site-packages (from sacremoses->transformers) (0.16.0)\n",
      "\u001b[33mWARNING: You are using pip version 21.2.3; however, version 21.2.4 is available.\n",
      "You should consider upgrading via the '/nfs/home/seonbinara/anaconda3/bin/python -m pip install --upgrade pip' command.\u001b[0m\n"
     ]
    }
   ],
   "source": [
    "!pip install sklearn\n",
    "!pip install transformers"
   ]
  },
  {
   "cell_type": "markdown",
   "metadata": {
    "id": "3_y6e6cYE-uQ"
   },
   "source": [
    "Because we will be using the experimental parts of the PyTorch, it is recommended to install the latest version of torch and torchvision. You can find the most recent instructions on local installation [here](https://pytorch.org/get-started/locally/). For example, to install on Mac:"
   ]
  },
  {
   "cell_type": "code",
   "execution_count": 11,
   "metadata": {
    "colab": {
     "base_uri": "https://localhost:8080/",
     "height": 342
    },
    "id": "uNNhTJCRFFSh",
    "outputId": "5ec5e45b-f9cd-474d-ba85-06b9317549f9"
   },
   "outputs": [],
   "source": [
    "# !yes y | pip uninstall torch torchvision\n",
    "# !yes y | pip install --pre torch -f https://download.pytorch.org/whl/nightly/cpu/torch_nightly.html"
   ]
  },
  {
   "cell_type": "markdown",
   "metadata": {
    "id": "rnVXDp3zIgNq"
   },
   "source": [
    "## 1.2 Import the necessary modules\n",
    "\n",
    "In this step we import the necessary Python modules for the tutorial."
   ]
  },
  {
   "cell_type": "code",
   "execution_count": 12,
   "metadata": {
    "colab": {
     "base_uri": "https://localhost:8080/",
     "height": 77
    },
    "id": "EQq5QmXLIgNr",
    "outputId": "fff49f91-1d51-4333-a254-091c84131aba"
   },
   "outputs": [
    {
     "name": "stdout",
     "output_type": "stream",
     "text": [
      "1.8.1+cu111\n"
     ]
    }
   ],
   "source": [
    "from __future__ import absolute_import, division, print_function\n",
    "\n",
    "import logging\n",
    "import numpy as np\n",
    "import os\n",
    "import random\n",
    "import sys\n",
    "import time\n",
    "import torch\n",
    "\n",
    "from argparse import Namespace\n",
    "from torch.utils.data import (DataLoader, RandomSampler, SequentialSampler,\n",
    "                              TensorDataset)\n",
    "from tqdm import tqdm\n",
    "from transformers import (BertConfig, BertForSequenceClassification, BertTokenizer,)\n",
    "from transformers import glue_compute_metrics as compute_metrics\n",
    "from transformers import glue_output_modes as output_modes\n",
    "from transformers import glue_processors as processors\n",
    "from transformers import glue_convert_examples_to_features as convert_examples_to_features\n",
    "\n",
    "# Setup logging\n",
    "logger = logging.getLogger(__name__)\n",
    "logging.basicConfig(format = '%(asctime)s - %(levelname)s - %(name)s -   %(message)s',\n",
    "                    datefmt = '%m/%d/%Y %H:%M:%S',\n",
    "                    level = logging.WARN)\n",
    "\n",
    "logging.getLogger(\"transformers.modeling_utils\").setLevel(\n",
    "   logging.WARN)  # Reduce logging\n",
    "\n",
    "print(torch.__version__)\n"
   ]
  },
  {
   "cell_type": "markdown",
   "metadata": {
    "id": "yIHLm9FrDuIQ"
   },
   "source": [
    "We set the number of threads to compare the single thread performance between FP32 and INT8 performance. In the end of the tutorial, the user can set other number of threads by building PyTorch with right parallel backend."
   ]
  },
  {
   "cell_type": "code",
   "execution_count": 13,
   "metadata": {
    "colab": {
     "base_uri": "https://localhost:8080/",
     "height": 245
    },
    "id": "SmhM_lshDvym",
    "outputId": "7d8a9d16-d8be-40f2-f96c-1228be52439a"
   },
   "outputs": [
    {
     "name": "stdout",
     "output_type": "stream",
     "text": [
      "ATen/Parallel:\n",
      "\tat::get_num_threads() : 1\n",
      "\tat::get_num_interop_threads() : 24\n",
      "OpenMP 201511 (a.k.a. OpenMP 4.5)\n",
      "\tomp_get_max_threads() : 1\n",
      "Intel(R) Math Kernel Library Version 2020.0.0 Product Build 20191122 for Intel(R) 64 architecture applications\n",
      "\tmkl_get_max_threads() : 1\n",
      "Intel(R) MKL-DNN v1.7.0 (Git Hash 7aed236906b1f7a05c0917e5257a1af05e9ff683)\n",
      "std::thread::hardware_concurrency() : 48\n",
      "Environment variables:\n",
      "\tOMP_NUM_THREADS : [not set]\n",
      "\tMKL_NUM_THREADS : [not set]\n",
      "ATen parallel backend: OpenMP\n",
      "\n"
     ]
    }
   ],
   "source": [
    "torch.set_num_threads(1)\n",
    "print(torch.__config__.parallel_info())"
   ]
  },
  {
   "cell_type": "markdown",
   "metadata": {
    "id": "ts3HzlSrIgNx"
   },
   "source": [
    "## 1.3 Learn about helper functions\n",
    "\n",
    "The helper functions are built-in in transformers library. We mainly use\n",
    "the following helper functions: one for converting the text examples\n",
    "into the feature vectors; The other one for measuring the F1 score of\n",
    "the predicted result.\n",
    "\n",
    "The [glue_convert_examples_to_features](https://github.com/huggingface/transformers/blob/master/transformers/data/processors/glue.py) function converts the texts into input features:\n",
    "\n",
    "-  Tokenize the input sequences;\n",
    "-  Insert [CLS] in the beginning;\n",
    "-  Insert [SEP] between the first sentence and the second sentence, and\n",
    "   in the end;\n",
    "-  Generate token type ids to indicate whether a token belongs to the\n",
    "   first sequence or the second sequence.\n",
    "\n",
    "The [glue_compute_metrics function](https://github.com/huggingface/transformers/blob/master/transformers/data/processors/glue.py) has the compute metrics with the [F1 score](https://scikit-learn.org/stable/modules/generated/sklearn.metrics.f1_score.html), which \n",
    "can be interpreted as a weighted average of the precision and recall,\n",
    "where an F1 score reaches its best value at 1 and worst score at 0. The\n",
    "relative contribution of precision and recall to the F1 score are equal.\n",
    "\n",
    "-  The equation for the F1 score is:\n",
    "\n",
    "F1 = 2 * (precision * recall) / (precision + recall)\n",
    "\n",
    "\n",
    "\n"
   ]
  },
  {
   "cell_type": "markdown",
   "metadata": {
    "id": "ySc1BfWdIgNu"
   },
   "source": [
    "## 1.4 Download the dataset\n",
    "\n",
    "Before running MRPC tasks we download the [GLUE data](https://gluebenchmark.com/tasks) by running [this script](https://gist.github.com/W4ngatang/60c2bdb54d156a41194446737ce03e2e) and unpack it to some directory `glue_data/MRPC`.\n"
   ]
  },
  {
   "cell_type": "code",
   "execution_count": 14,
   "metadata": {
    "colab": {
     "base_uri": "https://localhost:8080/",
     "height": 310
    },
    "id": "Sw6D1aSHIgNv",
    "outputId": "c0b20042-be52-47cd-ab2a-4cc0f4133aca"
   },
   "outputs": [
    {
     "name": "stdout",
     "output_type": "stream",
     "text": [
      "/nfs/home/seonbinara/network_distributed_pytorch\n",
      " download_glue_data.py\t\t\t\t      MRPC.zip\n",
      "'(experimental)_Dynamic_Quantization_on_BERT.ipynb'   README.md\n",
      " glue_data\t\t\t\t\t      undist_bert.py\n",
      " MRPC\n",
      "--2021-08-18 03:17:11--  https://gist.githubusercontent.com/W4ngatang/60c2bdb54d156a41194446737ce03e2e/raw/17b8dd0d724281ed7c3b2aeeda662b92809aadd5/download_glue_data.py\n",
      "Resolving gist.githubusercontent.com (gist.githubusercontent.com)... 185.199.110.133, 185.199.109.133, 185.199.108.133, ...\n",
      "Connecting to gist.githubusercontent.com (gist.githubusercontent.com)|185.199.110.133|:443... connected.\n",
      "HTTP request sent, awaiting response... 200 OK\n",
      "Length: 8225 (8.0K) [text/plain]\n",
      "Saving to: ‘download_glue_data.py.1’\n",
      "\n",
      "download_glue_data. 100%[===================>]   8.03K  --.-KB/s    in 0s      \n",
      "\n",
      "2021-08-18 03:17:12 (56.1 MB/s) - ‘download_glue_data.py.1’ saved [8225/8225]\n",
      "\n",
      "Processing MRPC...\n",
      "Local MRPC data not specified, downloading data from https://dl.fbaipublicfiles.com/senteval/senteval_data/msr_paraphrase_train.txt\n",
      "\tCompleted!\n",
      "dev_ids.tsv  msr_paraphrase_test.txt   test.tsv\n",
      "dev.tsv      msr_paraphrase_train.txt  train.tsv\n"
     ]
    }
   ],
   "source": [
    "# !python download_glue_data.py --data_dir='glue_data' --tasks='MRPC' --test_labels=True\n",
    "!pwd\n",
    "!ls\n",
    "!wget https://gist.githubusercontent.com/W4ngatang/60c2bdb54d156a41194446737ce03e2e/raw/17b8dd0d724281ed7c3b2aeeda662b92809aadd5/download_glue_data.py\n",
    "!python download_glue_data.py --data_dir='glue_data' --tasks='MRPC'\n",
    "!ls glue_data/MRPC"
   ]
  },
  {
   "cell_type": "markdown",
   "metadata": {
    "id": "-y492FMyIgN0"
   },
   "source": [
    "# 2 Fine-tune the BERT model"
   ]
  },
  {
   "cell_type": "markdown",
   "metadata": {
    "id": "0eFL0mmvrSwX"
   },
   "source": [
    "The spirit of BERT is to pre-train the language representations and then to fine-tune the deep bi-directional representations on a wide range of tasks with minimal task-dependent parameters, and achieves state-of-the-art results. In this tutorial, we will focus on fine-tuning with the pre-trained BERT model to classify semantically equivalent sentence pairs on MRPC task.\n",
    "\n",
    "To fine-tune the pre-trained BERT model (\"bert-base-uncased\" model in HuggingFace transformers) for the MRPC task, you can follow the command in [examples](https://github.com/huggingface/transformers/tree/master/examples):\n",
    "    \n",
    "    export GLUE_DIR=./glue_data\n",
    "    export TASK_NAME=MRPC\n",
    "    export OUT_DIR=./$TASK_NAME/\n",
    "    python ./run_glue.py \\\n",
    "        --model_type bert \\\n",
    "        --model_name_or_path bert-base-uncased \\\n",
    "        --task_name $TASK_NAME \\\n",
    "        --do_train \\\n",
    "        --do_eval \\\n",
    "        --do_lower_case \\\n",
    "        --data_dir $GLUE_DIR/$TASK_NAME \\\n",
    "        --max_seq_length 128 \\\n",
    "        --per_gpu_eval_batch_size=8   \\\n",
    "        --per_gpu_train_batch_size=8   \\\n",
    "        --learning_rate 2e-5 \\\n",
    "        --num_train_epochs 3.0 \\\n",
    "        --save_steps 100000 \\\n",
    "        --output_dir $OUT_DIR\n",
    "\n",
    "\n",
    "We provide the fined-tuned BERT model for MRPC task [here](https://download.pytorch.org/tutorial/MRPC.zip).\n",
    "To save time, you can download the model file (~400 MB) directly into your local folder ``$OUT_DIR``.\n",
    "\n"
   ]
  },
  {
   "cell_type": "code",
   "execution_count": 15,
   "metadata": {
    "colab": {
     "base_uri": "https://localhost:8080/",
     "height": 375
    },
    "id": "VpBpHtjFaqXC",
    "outputId": "5124d1f2-fadf-4290-d109-b3857c6ff1da"
   },
   "outputs": [
    {
     "name": "stdout",
     "output_type": "stream",
     "text": [
      "--2021-08-18 03:17:18--  https://download.pytorch.org/tutorial/MRPC.zip\n",
      "Resolving download.pytorch.org (download.pytorch.org)... 54.230.155.119, 54.230.155.22, 54.230.155.60, ...\n",
      "Connecting to download.pytorch.org (download.pytorch.org)|54.230.155.119|:443... connected.\n",
      "HTTP request sent, awaiting response... 200 OK\n",
      "Length: 405365618 (387M) [application/zip]\n",
      "Saving to: ‘MRPC.zip.1’\n",
      "\n",
      "MRPC.zip.1           36%[======>             ] 142.03M  9.10MB/s    eta 28s    "
     ]
    }
   ],
   "source": [
    "# !wget https://download.pytorch.org/tutorial/MRPC.zip\n",
    "# !unzip MRPC.zip\n",
    "# !ls\n",
    "# !pwd"
   ]
  },
  {
   "cell_type": "markdown",
   "metadata": {
    "id": "18Kuew6wtipv"
   },
   "source": [
    "## 2.1 Set global configurations"
   ]
  },
  {
   "cell_type": "markdown",
   "metadata": {
    "id": "O69tatmbtnJ3"
   },
   "source": [
    "Here we set the global configurations for evaluating the fine-tuned BERT model before and after the dynamic quantization."
   ]
  },
  {
   "cell_type": "code",
   "execution_count": 16,
   "metadata": {
    "id": "3-ZdUEGOIgN0"
   },
   "outputs": [],
   "source": [
    "configs = Namespace()\n",
    "\n",
    "# The output directory for the fine-tuned model.\n",
    "# configs.output_dir = \"content/MRPC/\"\n",
    "configs.output_dir = \"./MRPC/\"\n",
    "\n",
    "# The data directory for the MRPC task in the GLUE benchmark.\n",
    "configs.data_dir = \"/content/glue_data/MRPC\"\n",
    "\n",
    "# The model name or path for the pre-trained model.\n",
    "configs.model_name_or_path = \"bert-base-uncased\"\n",
    "# The maximum length of an input sequence\n",
    "configs.max_seq_length = 128\n",
    "\n",
    "# Prepare GLUE task.\n",
    "configs.task_name = \"MRPC\".lower()\n",
    "configs.processor = processors[configs.task_name]()\n",
    "configs.output_mode = output_modes[configs.task_name]\n",
    "configs.label_list = configs.processor.get_labels()\n",
    "configs.model_type = \"bert\".lower()\n",
    "configs.do_lower_case = True\n",
    "\n",
    "# Set the device, batch size, topology, and caching flags.\n",
    "configs.device = \"cpu\"\n",
    "configs.per_gpu_eval_batch_size = 8\n",
    "configs.n_gpu = 0\n",
    "configs.local_rank = -1\n",
    "configs.overwrite_cache = False\n",
    "\n",
    "\n",
    "# Set random seed for reproducibility.\n",
    "def set_seed(seed):\n",
    "    random.seed(seed)\n",
    "    np.random.seed(seed)\n",
    "    torch.manual_seed(seed)\n",
    "set_seed(42)"
   ]
  },
  {
   "cell_type": "markdown",
   "metadata": {
    "id": "PVj1KXhOIgN4"
   },
   "source": [
    "## 2.2 Load the fine-tuned BERT model "
   ]
  },
  {
   "cell_type": "markdown",
   "metadata": {
    "id": "EO6tENlSo9Pl"
   },
   "source": [
    "We load the tokenizer and fine-tuned BERT sequence classifier model (FP32) from the `configs.output_dir`."
   ]
  },
  {
   "cell_type": "code",
   "execution_count": null,
   "metadata": {
    "colab": {
     "base_uri": "https://localhost:8080/",
     "height": 1000
    },
    "id": "IzyVSIKYIgN5",
    "outputId": "f5679c4a-01e6-42f2-8f40-0051585a9f59"
   },
   "outputs": [
    {
     "ename": "HTTPError",
     "evalue": "404 Client Error: Not Found for url: https://huggingface.co/api/models//content/MRPC",
     "output_type": "error",
     "traceback": [
      "\u001b[0;31m---------------------------------------------------------------------------\u001b[0m",
      "\u001b[0;31mHTTPError\u001b[0m                                 Traceback (most recent call last)",
      "\u001b[0;32m<ipython-input-9-22cb017fe05e>\u001b[0m in \u001b[0;36m<module>\u001b[0;34m\u001b[0m\n\u001b[0;32m----> 1\u001b[0;31m tokenizer = BertTokenizer.from_pretrained(\n\u001b[0m\u001b[1;32m      2\u001b[0m     configs.output_dir, do_lower_case=configs.do_lower_case)\n\u001b[1;32m      3\u001b[0m \u001b[0;34m\u001b[0m\u001b[0m\n\u001b[1;32m      4\u001b[0m \u001b[0mmodel\u001b[0m \u001b[0;34m=\u001b[0m \u001b[0mBertForSequenceClassification\u001b[0m\u001b[0;34m.\u001b[0m\u001b[0mfrom_pretrained\u001b[0m\u001b[0;34m(\u001b[0m\u001b[0mconfigs\u001b[0m\u001b[0;34m.\u001b[0m\u001b[0moutput_dir\u001b[0m\u001b[0;34m)\u001b[0m\u001b[0;34m\u001b[0m\u001b[0;34m\u001b[0m\u001b[0m\n\u001b[1;32m      5\u001b[0m \u001b[0mmodel\u001b[0m\u001b[0;34m.\u001b[0m\u001b[0mto\u001b[0m\u001b[0;34m(\u001b[0m\u001b[0mconfigs\u001b[0m\u001b[0;34m.\u001b[0m\u001b[0mdevice\u001b[0m\u001b[0;34m)\u001b[0m\u001b[0;34m\u001b[0m\u001b[0;34m\u001b[0m\u001b[0m\n",
      "\u001b[0;32m~/anaconda3/lib/python3.8/site-packages/transformers/tokenization_utils_base.py\u001b[0m in \u001b[0;36mfrom_pretrained\u001b[0;34m(cls, pretrained_model_name_or_path, *init_inputs, **kwargs)\u001b[0m\n\u001b[1;32m   1645\u001b[0m         \u001b[0;32melse\u001b[0m\u001b[0;34m:\u001b[0m\u001b[0;34m\u001b[0m\u001b[0;34m\u001b[0m\u001b[0m\n\u001b[1;32m   1646\u001b[0m             \u001b[0;31m# At this point pretrained_model_name_or_path is either a directory or a model identifier name\u001b[0m\u001b[0;34m\u001b[0m\u001b[0;34m\u001b[0m\u001b[0;34m\u001b[0m\u001b[0m\n\u001b[0;32m-> 1647\u001b[0;31m             fast_tokenizer_file = get_fast_tokenizer_file(\n\u001b[0m\u001b[1;32m   1648\u001b[0m                 \u001b[0mpretrained_model_name_or_path\u001b[0m\u001b[0;34m,\u001b[0m \u001b[0mrevision\u001b[0m\u001b[0;34m=\u001b[0m\u001b[0mrevision\u001b[0m\u001b[0;34m,\u001b[0m \u001b[0muse_auth_token\u001b[0m\u001b[0;34m=\u001b[0m\u001b[0muse_auth_token\u001b[0m\u001b[0;34m\u001b[0m\u001b[0;34m\u001b[0m\u001b[0m\n\u001b[1;32m   1649\u001b[0m             )\n",
      "\u001b[0;32m~/anaconda3/lib/python3.8/site-packages/transformers/tokenization_utils_base.py\u001b[0m in \u001b[0;36mget_fast_tokenizer_file\u001b[0;34m(path_or_repo, revision, use_auth_token)\u001b[0m\n\u001b[1;32m   3406\u001b[0m     \"\"\"\n\u001b[1;32m   3407\u001b[0m     \u001b[0;31m# Inspect all files from the repo/folder.\u001b[0m\u001b[0;34m\u001b[0m\u001b[0;34m\u001b[0m\u001b[0;34m\u001b[0m\u001b[0m\n\u001b[0;32m-> 3408\u001b[0;31m     \u001b[0mall_files\u001b[0m \u001b[0;34m=\u001b[0m \u001b[0mget_list_of_files\u001b[0m\u001b[0;34m(\u001b[0m\u001b[0mpath_or_repo\u001b[0m\u001b[0;34m,\u001b[0m \u001b[0mrevision\u001b[0m\u001b[0;34m=\u001b[0m\u001b[0mrevision\u001b[0m\u001b[0;34m,\u001b[0m \u001b[0muse_auth_token\u001b[0m\u001b[0;34m=\u001b[0m\u001b[0muse_auth_token\u001b[0m\u001b[0;34m)\u001b[0m\u001b[0;34m\u001b[0m\u001b[0;34m\u001b[0m\u001b[0m\n\u001b[0m\u001b[1;32m   3409\u001b[0m     \u001b[0mtokenizer_files_map\u001b[0m \u001b[0;34m=\u001b[0m \u001b[0;34m{\u001b[0m\u001b[0;34m}\u001b[0m\u001b[0;34m\u001b[0m\u001b[0;34m\u001b[0m\u001b[0m\n\u001b[1;32m   3410\u001b[0m     \u001b[0;32mfor\u001b[0m \u001b[0mfile_name\u001b[0m \u001b[0;32min\u001b[0m \u001b[0mall_files\u001b[0m\u001b[0;34m:\u001b[0m\u001b[0;34m\u001b[0m\u001b[0;34m\u001b[0m\u001b[0m\n",
      "\u001b[0;32m~/anaconda3/lib/python3.8/site-packages/transformers/file_utils.py\u001b[0m in \u001b[0;36mget_list_of_files\u001b[0;34m(path_or_repo, revision, use_auth_token)\u001b[0m\n\u001b[1;32m   1691\u001b[0m     \u001b[0;32melse\u001b[0m\u001b[0;34m:\u001b[0m\u001b[0;34m\u001b[0m\u001b[0;34m\u001b[0m\u001b[0m\n\u001b[1;32m   1692\u001b[0m         \u001b[0mtoken\u001b[0m \u001b[0;34m=\u001b[0m \u001b[0;32mNone\u001b[0m\u001b[0;34m\u001b[0m\u001b[0;34m\u001b[0m\u001b[0m\n\u001b[0;32m-> 1693\u001b[0;31m     model_info = HfApi(endpoint=HUGGINGFACE_CO_RESOLVE_ENDPOINT).model_info(\n\u001b[0m\u001b[1;32m   1694\u001b[0m         \u001b[0mpath_or_repo\u001b[0m\u001b[0;34m,\u001b[0m \u001b[0mrevision\u001b[0m\u001b[0;34m=\u001b[0m\u001b[0mrevision\u001b[0m\u001b[0;34m,\u001b[0m \u001b[0mtoken\u001b[0m\u001b[0;34m=\u001b[0m\u001b[0mtoken\u001b[0m\u001b[0;34m\u001b[0m\u001b[0;34m\u001b[0m\u001b[0m\n\u001b[1;32m   1695\u001b[0m     )\n",
      "\u001b[0;32m~/anaconda3/lib/python3.8/site-packages/huggingface_hub/hf_api.py\u001b[0m in \u001b[0;36mmodel_info\u001b[0;34m(self, repo_id, revision, token)\u001b[0m\n\u001b[1;32m    246\u001b[0m         )\n\u001b[1;32m    247\u001b[0m         \u001b[0mr\u001b[0m \u001b[0;34m=\u001b[0m \u001b[0mrequests\u001b[0m\u001b[0;34m.\u001b[0m\u001b[0mget\u001b[0m\u001b[0;34m(\u001b[0m\u001b[0mpath\u001b[0m\u001b[0;34m,\u001b[0m \u001b[0mheaders\u001b[0m\u001b[0;34m=\u001b[0m\u001b[0mheaders\u001b[0m\u001b[0;34m)\u001b[0m\u001b[0;34m\u001b[0m\u001b[0;34m\u001b[0m\u001b[0m\n\u001b[0;32m--> 248\u001b[0;31m         \u001b[0mr\u001b[0m\u001b[0;34m.\u001b[0m\u001b[0mraise_for_status\u001b[0m\u001b[0;34m(\u001b[0m\u001b[0;34m)\u001b[0m\u001b[0;34m\u001b[0m\u001b[0;34m\u001b[0m\u001b[0m\n\u001b[0m\u001b[1;32m    249\u001b[0m         \u001b[0md\u001b[0m \u001b[0;34m=\u001b[0m \u001b[0mr\u001b[0m\u001b[0;34m.\u001b[0m\u001b[0mjson\u001b[0m\u001b[0;34m(\u001b[0m\u001b[0;34m)\u001b[0m\u001b[0;34m\u001b[0m\u001b[0;34m\u001b[0m\u001b[0m\n\u001b[1;32m    250\u001b[0m         \u001b[0;32mreturn\u001b[0m \u001b[0mModelInfo\u001b[0m\u001b[0;34m(\u001b[0m\u001b[0;34m**\u001b[0m\u001b[0md\u001b[0m\u001b[0;34m)\u001b[0m\u001b[0;34m\u001b[0m\u001b[0;34m\u001b[0m\u001b[0m\n",
      "\u001b[0;32m~/anaconda3/lib/python3.8/site-packages/requests/models.py\u001b[0m in \u001b[0;36mraise_for_status\u001b[0;34m(self)\u001b[0m\n\u001b[1;32m    939\u001b[0m \u001b[0;34m\u001b[0m\u001b[0m\n\u001b[1;32m    940\u001b[0m         \u001b[0;32mif\u001b[0m \u001b[0mhttp_error_msg\u001b[0m\u001b[0;34m:\u001b[0m\u001b[0;34m\u001b[0m\u001b[0;34m\u001b[0m\u001b[0m\n\u001b[0;32m--> 941\u001b[0;31m             \u001b[0;32mraise\u001b[0m \u001b[0mHTTPError\u001b[0m\u001b[0;34m(\u001b[0m\u001b[0mhttp_error_msg\u001b[0m\u001b[0;34m,\u001b[0m \u001b[0mresponse\u001b[0m\u001b[0;34m=\u001b[0m\u001b[0mself\u001b[0m\u001b[0;34m)\u001b[0m\u001b[0;34m\u001b[0m\u001b[0;34m\u001b[0m\u001b[0m\n\u001b[0m\u001b[1;32m    942\u001b[0m \u001b[0;34m\u001b[0m\u001b[0m\n\u001b[1;32m    943\u001b[0m     \u001b[0;32mdef\u001b[0m \u001b[0mclose\u001b[0m\u001b[0;34m(\u001b[0m\u001b[0mself\u001b[0m\u001b[0;34m)\u001b[0m\u001b[0;34m:\u001b[0m\u001b[0;34m\u001b[0m\u001b[0;34m\u001b[0m\u001b[0m\n",
      "\u001b[0;31mHTTPError\u001b[0m: 404 Client Error: Not Found for url: https://huggingface.co/api/models//content/MRPC"
     ]
    }
   ],
   "source": [
    "tokenizer = BertTokenizer.from_pretrained(\n",
    "    configs.output_dir, do_lower_case=configs.do_lower_case)\n",
    "\n",
    "model = BertForSequenceClassification.from_pretrained(configs.output_dir)\n",
    "model.to(configs.device)"
   ]
  },
  {
   "cell_type": "markdown",
   "metadata": {
    "id": "xEQei5wkroBH"
   },
   "source": [
    "## 2.3 Define the tokenize and evaluation function\n",
    "We reuse the tokenize and evaluation function from [HuggingFace](https://github.com/huggingface/transformers/blob/master/examples/run_glue.py)."
   ]
  },
  {
   "cell_type": "code",
   "execution_count": null,
   "metadata": {
    "id": "fJsPaJXMIgN3"
   },
   "outputs": [],
   "source": [
    "# coding=utf-8\n",
    "# Copyright 2018 The Google AI Language Team Authors and The HuggingFace Inc. team.\n",
    "# Copyright (c) 2018, NVIDIA CORPORATION.  All rights reserved.\n",
    "#\n",
    "# Licensed under the Apache License, Version 2.0 (the \"License\");\n",
    "# you may not use this file except in compliance with the License.\n",
    "# You may obtain a copy of the License at\n",
    "#\n",
    "#     http://www.apache.org/licenses/LICENSE-2.0\n",
    "#\n",
    "# Unless required by applicable law or agreed to in writing, software\n",
    "# distributed under the License is distributed on an \"AS IS\" BASIS,\n",
    "# WITHOUT WARRANTIES OR CONDITIONS OF ANY KIND, either express or implied.\n",
    "# See the License for the specific language governing permissions and\n",
    "# limitations under the License.\n",
    "\n",
    "def evaluate(args, model, tokenizer, prefix=\"\"):\n",
    "    # Loop to handle MNLI double evaluation (matched, mis-matched)\n",
    "    eval_task_names = (\"mnli\", \"mnli-mm\") if args.task_name == \"mnli\" else (args.task_name,)\n",
    "    eval_outputs_dirs = (args.output_dir, args.output_dir + '-MM') if args.task_name == \"mnli\" else (args.output_dir,)\n",
    "\n",
    "    results = {}\n",
    "    for eval_task, eval_output_dir in zip(eval_task_names, eval_outputs_dirs):\n",
    "        eval_dataset = load_and_cache_examples(args, eval_task, tokenizer, evaluate=True)\n",
    "\n",
    "        if not os.path.exists(eval_output_dir) and args.local_rank in [-1, 0]:\n",
    "            os.makedirs(eval_output_dir)\n",
    "\n",
    "        args.eval_batch_size = args.per_gpu_eval_batch_size * max(1, args.n_gpu)\n",
    "        # Note that DistributedSampler samples randomly\n",
    "        eval_sampler = SequentialSampler(eval_dataset) if args.local_rank == -1 else DistributedSampler(eval_dataset)\n",
    "        eval_dataloader = DataLoader(eval_dataset, sampler=eval_sampler, batch_size=args.eval_batch_size)\n",
    "\n",
    "        # multi-gpu eval\n",
    "        if args.n_gpu > 1:\n",
    "            model = torch.nn.DataParallel(model)\n",
    "\n",
    "        # Eval!\n",
    "        logger.info(\"***** Running evaluation {} *****\".format(prefix))\n",
    "        logger.info(\"  Num examples = %d\", len(eval_dataset))\n",
    "        logger.info(\"  Batch size = %d\", args.eval_batch_size)\n",
    "        eval_loss = 0.0\n",
    "        nb_eval_steps = 0\n",
    "        preds = None\n",
    "        out_label_ids = None\n",
    "        for batch in tqdm(eval_dataloader, desc=\"Evaluating\"):\n",
    "            model.eval()\n",
    "            batch = tuple(t.to(args.device) for t in batch)\n",
    "\n",
    "            with torch.no_grad():\n",
    "                inputs = {'input_ids':      batch[0],\n",
    "                          'attention_mask': batch[1],\n",
    "                          'labels':         batch[3]}\n",
    "                if args.model_type != 'distilbert':\n",
    "                    inputs['token_type_ids'] = batch[2] if args.model_type in ['bert', 'xlnet'] else None  # XLM, DistilBERT and RoBERTa don't use segment_ids\n",
    "                outputs = model(**inputs)\n",
    "                tmp_eval_loss, logits = outputs[:2]\n",
    "\n",
    "                eval_loss += tmp_eval_loss.mean().item()\n",
    "            nb_eval_steps += 1\n",
    "            if preds is None:\n",
    "                preds = logits.detach().cpu().numpy()\n",
    "                out_label_ids = inputs['labels'].detach().cpu().numpy()\n",
    "            else:\n",
    "                preds = np.append(preds, logits.detach().cpu().numpy(), axis=0)\n",
    "                out_label_ids = np.append(out_label_ids, inputs['labels'].detach().cpu().numpy(), axis=0)\n",
    "\n",
    "        eval_loss = eval_loss / nb_eval_steps\n",
    "        if args.output_mode == \"classification\":\n",
    "            preds = np.argmax(preds, axis=1)\n",
    "        elif args.output_mode == \"regression\":\n",
    "            preds = np.squeeze(preds)\n",
    "        result = compute_metrics(eval_task, preds, out_label_ids)\n",
    "        results.update(result)\n",
    "\n",
    "        output_eval_file = os.path.join(eval_output_dir, prefix, \"eval_results.txt\")\n",
    "        with open(output_eval_file, \"w\") as writer:\n",
    "            logger.info(\"***** Eval results {} *****\".format(prefix))\n",
    "            for key in sorted(result.keys()):\n",
    "                logger.info(\"  %s = %s\", key, str(result[key]))\n",
    "                writer.write(\"%s = %s\\n\" % (key, str(result[key])))\n",
    "\n",
    "    return results\n",
    "\n",
    "\n",
    "def load_and_cache_examples(args, task, tokenizer, evaluate=False):\n",
    "    if args.local_rank not in [-1, 0] and not evaluate:\n",
    "        torch.distributed.barrier()  # Make sure only the first process in distributed training process the dataset, and the others will use the cache\n",
    "\n",
    "    processor = processors[task]()\n",
    "    output_mode = output_modes[task]\n",
    "    # Load data features from cache or dataset file\n",
    "    cached_features_file = os.path.join(args.data_dir, 'cached_{}_{}_{}_{}'.format(\n",
    "        'dev' if evaluate else 'train',\n",
    "        list(filter(None, args.model_name_or_path.split('/'))).pop(),\n",
    "        str(args.max_seq_length),\n",
    "        str(task)))\n",
    "    if os.path.exists(cached_features_file) and not args.overwrite_cache:\n",
    "        logger.info(\"Loading features from cached file %s\", cached_features_file)\n",
    "        features = torch.load(cached_features_file)\n",
    "    else:\n",
    "        logger.info(\"Creating features from dataset file at %s\", args.data_dir)\n",
    "        label_list = processor.get_labels()\n",
    "        if task in ['mnli', 'mnli-mm'] and args.model_type in ['roberta']:\n",
    "            # HACK(label indices are swapped in RoBERTa pretrained model)\n",
    "            label_list[1], label_list[2] = label_list[2], label_list[1] \n",
    "        examples = processor.get_dev_examples(args.data_dir) if evaluate else processor.get_train_examples(args.data_dir)\n",
    "        features = convert_examples_to_features(examples,\n",
    "                                                tokenizer,\n",
    "                                                label_list=label_list,\n",
    "                                                max_length=args.max_seq_length,\n",
    "                                                output_mode=output_mode,\n",
    "                                                pad_on_left=bool(args.model_type in ['xlnet']),                 # pad on the left for xlnet\n",
    "                                                pad_token=tokenizer.convert_tokens_to_ids([tokenizer.pad_token])[0],\n",
    "                                                pad_token_segment_id=4 if args.model_type in ['xlnet'] else 0,\n",
    "        )\n",
    "        if args.local_rank in [-1, 0]:\n",
    "            logger.info(\"Saving features into cached file %s\", cached_features_file)\n",
    "            torch.save(features, cached_features_file)\n",
    "\n",
    "    if args.local_rank == 0 and not evaluate:\n",
    "        torch.distributed.barrier()  # Make sure only the first process in distributed training process the dataset, and the others will use the cache\n",
    "\n",
    "    # Convert to Tensors and build dataset\n",
    "    all_input_ids = torch.tensor([f.input_ids for f in features], dtype=torch.long)\n",
    "    all_attention_mask = torch.tensor([f.attention_mask for f in features], dtype=torch.long)\n",
    "    all_token_type_ids = torch.tensor([f.token_type_ids for f in features], dtype=torch.long)\n",
    "    if output_mode == \"classification\":\n",
    "        all_labels = torch.tensor([f.label for f in features], dtype=torch.long)\n",
    "    elif output_mode == \"regression\":\n",
    "        all_labels = torch.tensor([f.label for f in features], dtype=torch.float)\n",
    "\n",
    "    dataset = TensorDataset(all_input_ids, all_attention_mask, all_token_type_ids, all_labels)\n",
    "    return dataset\n"
   ]
  },
  {
   "cell_type": "markdown",
   "metadata": {
    "id": "SWQ6E5z6IgN7"
   },
   "source": [
    "# 3. Apply the dynamic quantization\n",
    "\n",
    "We call `torch.quantization.quantize_dynamic` on the model to apply the dynamic quantization on the HuggingFace BERT model. Specifically,\n",
    "\n",
    "- We specify that we want the torch.nn.Linear modules in our model to be quantized;\n",
    "- We specify that we want weights to be converted to quantized int8 values."
   ]
  },
  {
   "cell_type": "code",
   "execution_count": null,
   "metadata": {
    "colab": {
     "base_uri": "https://localhost:8080/",
     "height": 1000
    },
    "id": "vnMpkij7IgN7",
    "outputId": "1c03b66a-1d86-4caa-c0ce-d7a108403ba6"
   },
   "outputs": [
    {
     "name": "stdout",
     "output_type": "stream",
     "text": [
      "BertForSequenceClassification(\n",
      "  (bert): BertModel(\n",
      "    (embeddings): BertEmbeddings(\n",
      "      (word_embeddings): Embedding(30522, 768, padding_idx=0)\n",
      "      (position_embeddings): Embedding(512, 768)\n",
      "      (token_type_embeddings): Embedding(2, 768)\n",
      "      (LayerNorm): LayerNorm((768,), eps=1e-12, elementwise_affine=True)\n",
      "      (dropout): Dropout(p=0.1, inplace=False)\n",
      "    )\n",
      "    (encoder): BertEncoder(\n",
      "      (layer): ModuleList(\n",
      "        (0): BertLayer(\n",
      "          (attention): BertAttention(\n",
      "            (self): BertSelfAttention(\n",
      "              (query): DynamicQuantizedLinear(\n",
      "                in_features=768, out_features=768, qscheme=torch.per_tensor_affine\n",
      "                (_packed_params): LinearPackedParams()\n",
      "              )\n",
      "              (key): DynamicQuantizedLinear(\n",
      "                in_features=768, out_features=768, qscheme=torch.per_tensor_affine\n",
      "                (_packed_params): LinearPackedParams()\n",
      "              )\n",
      "              (value): DynamicQuantizedLinear(\n",
      "                in_features=768, out_features=768, qscheme=torch.per_tensor_affine\n",
      "                (_packed_params): LinearPackedParams()\n",
      "              )\n",
      "              (dropout): Dropout(p=0.1, inplace=False)\n",
      "            )\n",
      "            (output): BertSelfOutput(\n",
      "              (dense): DynamicQuantizedLinear(\n",
      "                in_features=768, out_features=768, qscheme=torch.per_tensor_affine\n",
      "                (_packed_params): LinearPackedParams()\n",
      "              )\n",
      "              (LayerNorm): LayerNorm((768,), eps=1e-12, elementwise_affine=True)\n",
      "              (dropout): Dropout(p=0.1, inplace=False)\n",
      "            )\n",
      "          )\n",
      "          (intermediate): BertIntermediate(\n",
      "            (dense): DynamicQuantizedLinear(\n",
      "              in_features=768, out_features=3072, qscheme=torch.per_tensor_affine\n",
      "              (_packed_params): LinearPackedParams()\n",
      "            )\n",
      "          )\n",
      "          (output): BertOutput(\n",
      "            (dense): DynamicQuantizedLinear(\n",
      "              in_features=3072, out_features=768, qscheme=torch.per_tensor_affine\n",
      "              (_packed_params): LinearPackedParams()\n",
      "            )\n",
      "            (LayerNorm): LayerNorm((768,), eps=1e-12, elementwise_affine=True)\n",
      "            (dropout): Dropout(p=0.1, inplace=False)\n",
      "          )\n",
      "        )\n",
      "        (1): BertLayer(\n",
      "          (attention): BertAttention(\n",
      "            (self): BertSelfAttention(\n",
      "              (query): DynamicQuantizedLinear(\n",
      "                in_features=768, out_features=768, qscheme=torch.per_tensor_affine\n",
      "                (_packed_params): LinearPackedParams()\n",
      "              )\n",
      "              (key): DynamicQuantizedLinear(\n",
      "                in_features=768, out_features=768, qscheme=torch.per_tensor_affine\n",
      "                (_packed_params): LinearPackedParams()\n",
      "              )\n",
      "              (value): DynamicQuantizedLinear(\n",
      "                in_features=768, out_features=768, qscheme=torch.per_tensor_affine\n",
      "                (_packed_params): LinearPackedParams()\n",
      "              )\n",
      "              (dropout): Dropout(p=0.1, inplace=False)\n",
      "            )\n",
      "            (output): BertSelfOutput(\n",
      "              (dense): DynamicQuantizedLinear(\n",
      "                in_features=768, out_features=768, qscheme=torch.per_tensor_affine\n",
      "                (_packed_params): LinearPackedParams()\n",
      "              )\n",
      "              (LayerNorm): LayerNorm((768,), eps=1e-12, elementwise_affine=True)\n",
      "              (dropout): Dropout(p=0.1, inplace=False)\n",
      "            )\n",
      "          )\n",
      "          (intermediate): BertIntermediate(\n",
      "            (dense): DynamicQuantizedLinear(\n",
      "              in_features=768, out_features=3072, qscheme=torch.per_tensor_affine\n",
      "              (_packed_params): LinearPackedParams()\n",
      "            )\n",
      "          )\n",
      "          (output): BertOutput(\n",
      "            (dense): DynamicQuantizedLinear(\n",
      "              in_features=3072, out_features=768, qscheme=torch.per_tensor_affine\n",
      "              (_packed_params): LinearPackedParams()\n",
      "            )\n",
      "            (LayerNorm): LayerNorm((768,), eps=1e-12, elementwise_affine=True)\n",
      "            (dropout): Dropout(p=0.1, inplace=False)\n",
      "          )\n",
      "        )\n",
      "        (2): BertLayer(\n",
      "          (attention): BertAttention(\n",
      "            (self): BertSelfAttention(\n",
      "              (query): DynamicQuantizedLinear(\n",
      "                in_features=768, out_features=768, qscheme=torch.per_tensor_affine\n",
      "                (_packed_params): LinearPackedParams()\n",
      "              )\n",
      "              (key): DynamicQuantizedLinear(\n",
      "                in_features=768, out_features=768, qscheme=torch.per_tensor_affine\n",
      "                (_packed_params): LinearPackedParams()\n",
      "              )\n",
      "              (value): DynamicQuantizedLinear(\n",
      "                in_features=768, out_features=768, qscheme=torch.per_tensor_affine\n",
      "                (_packed_params): LinearPackedParams()\n",
      "              )\n",
      "              (dropout): Dropout(p=0.1, inplace=False)\n",
      "            )\n",
      "            (output): BertSelfOutput(\n",
      "              (dense): DynamicQuantizedLinear(\n",
      "                in_features=768, out_features=768, qscheme=torch.per_tensor_affine\n",
      "                (_packed_params): LinearPackedParams()\n",
      "              )\n",
      "              (LayerNorm): LayerNorm((768,), eps=1e-12, elementwise_affine=True)\n",
      "              (dropout): Dropout(p=0.1, inplace=False)\n",
      "            )\n",
      "          )\n",
      "          (intermediate): BertIntermediate(\n",
      "            (dense): DynamicQuantizedLinear(\n",
      "              in_features=768, out_features=3072, qscheme=torch.per_tensor_affine\n",
      "              (_packed_params): LinearPackedParams()\n",
      "            )\n",
      "          )\n",
      "          (output): BertOutput(\n",
      "            (dense): DynamicQuantizedLinear(\n",
      "              in_features=3072, out_features=768, qscheme=torch.per_tensor_affine\n",
      "              (_packed_params): LinearPackedParams()\n",
      "            )\n",
      "            (LayerNorm): LayerNorm((768,), eps=1e-12, elementwise_affine=True)\n",
      "            (dropout): Dropout(p=0.1, inplace=False)\n",
      "          )\n",
      "        )\n",
      "        (3): BertLayer(\n",
      "          (attention): BertAttention(\n",
      "            (self): BertSelfAttention(\n",
      "              (query): DynamicQuantizedLinear(\n",
      "                in_features=768, out_features=768, qscheme=torch.per_tensor_affine\n",
      "                (_packed_params): LinearPackedParams()\n",
      "              )\n",
      "              (key): DynamicQuantizedLinear(\n",
      "                in_features=768, out_features=768, qscheme=torch.per_tensor_affine\n",
      "                (_packed_params): LinearPackedParams()\n",
      "              )\n",
      "              (value): DynamicQuantizedLinear(\n",
      "                in_features=768, out_features=768, qscheme=torch.per_tensor_affine\n",
      "                (_packed_params): LinearPackedParams()\n",
      "              )\n",
      "              (dropout): Dropout(p=0.1, inplace=False)\n",
      "            )\n",
      "            (output): BertSelfOutput(\n",
      "              (dense): DynamicQuantizedLinear(\n",
      "                in_features=768, out_features=768, qscheme=torch.per_tensor_affine\n",
      "                (_packed_params): LinearPackedParams()\n",
      "              )\n",
      "              (LayerNorm): LayerNorm((768,), eps=1e-12, elementwise_affine=True)\n",
      "              (dropout): Dropout(p=0.1, inplace=False)\n",
      "            )\n",
      "          )\n",
      "          (intermediate): BertIntermediate(\n",
      "            (dense): DynamicQuantizedLinear(\n",
      "              in_features=768, out_features=3072, qscheme=torch.per_tensor_affine\n",
      "              (_packed_params): LinearPackedParams()\n",
      "            )\n",
      "          )\n",
      "          (output): BertOutput(\n",
      "            (dense): DynamicQuantizedLinear(\n",
      "              in_features=3072, out_features=768, qscheme=torch.per_tensor_affine\n",
      "              (_packed_params): LinearPackedParams()\n",
      "            )\n",
      "            (LayerNorm): LayerNorm((768,), eps=1e-12, elementwise_affine=True)\n",
      "            (dropout): Dropout(p=0.1, inplace=False)\n",
      "          )\n",
      "        )\n",
      "        (4): BertLayer(\n",
      "          (attention): BertAttention(\n",
      "            (self): BertSelfAttention(\n",
      "              (query): DynamicQuantizedLinear(\n",
      "                in_features=768, out_features=768, qscheme=torch.per_tensor_affine\n",
      "                (_packed_params): LinearPackedParams()\n",
      "              )\n",
      "              (key): DynamicQuantizedLinear(\n",
      "                in_features=768, out_features=768, qscheme=torch.per_tensor_affine\n",
      "                (_packed_params): LinearPackedParams()\n",
      "              )\n",
      "              (value): DynamicQuantizedLinear(\n",
      "                in_features=768, out_features=768, qscheme=torch.per_tensor_affine\n",
      "                (_packed_params): LinearPackedParams()\n",
      "              )\n",
      "              (dropout): Dropout(p=0.1, inplace=False)\n",
      "            )\n",
      "            (output): BertSelfOutput(\n",
      "              (dense): DynamicQuantizedLinear(\n",
      "                in_features=768, out_features=768, qscheme=torch.per_tensor_affine\n",
      "                (_packed_params): LinearPackedParams()\n",
      "              )\n",
      "              (LayerNorm): LayerNorm((768,), eps=1e-12, elementwise_affine=True)\n",
      "              (dropout): Dropout(p=0.1, inplace=False)\n",
      "            )\n",
      "          )\n",
      "          (intermediate): BertIntermediate(\n",
      "            (dense): DynamicQuantizedLinear(\n",
      "              in_features=768, out_features=3072, qscheme=torch.per_tensor_affine\n",
      "              (_packed_params): LinearPackedParams()\n",
      "            )\n",
      "          )\n",
      "          (output): BertOutput(\n",
      "            (dense): DynamicQuantizedLinear(\n",
      "              in_features=3072, out_features=768, qscheme=torch.per_tensor_affine\n",
      "              (_packed_params): LinearPackedParams()\n",
      "            )\n",
      "            (LayerNorm): LayerNorm((768,), eps=1e-12, elementwise_affine=True)\n",
      "            (dropout): Dropout(p=0.1, inplace=False)\n",
      "          )\n",
      "        )\n",
      "        (5): BertLayer(\n",
      "          (attention): BertAttention(\n",
      "            (self): BertSelfAttention(\n",
      "              (query): DynamicQuantizedLinear(\n",
      "                in_features=768, out_features=768, qscheme=torch.per_tensor_affine\n",
      "                (_packed_params): LinearPackedParams()\n",
      "              )\n",
      "              (key): DynamicQuantizedLinear(\n",
      "                in_features=768, out_features=768, qscheme=torch.per_tensor_affine\n",
      "                (_packed_params): LinearPackedParams()\n",
      "              )\n",
      "              (value): DynamicQuantizedLinear(\n",
      "                in_features=768, out_features=768, qscheme=torch.per_tensor_affine\n",
      "                (_packed_params): LinearPackedParams()\n",
      "              )\n",
      "              (dropout): Dropout(p=0.1, inplace=False)\n",
      "            )\n",
      "            (output): BertSelfOutput(\n",
      "              (dense): DynamicQuantizedLinear(\n",
      "                in_features=768, out_features=768, qscheme=torch.per_tensor_affine\n",
      "                (_packed_params): LinearPackedParams()\n",
      "              )\n",
      "              (LayerNorm): LayerNorm((768,), eps=1e-12, elementwise_affine=True)\n",
      "              (dropout): Dropout(p=0.1, inplace=False)\n",
      "            )\n",
      "          )\n",
      "          (intermediate): BertIntermediate(\n",
      "            (dense): DynamicQuantizedLinear(\n",
      "              in_features=768, out_features=3072, qscheme=torch.per_tensor_affine\n",
      "              (_packed_params): LinearPackedParams()\n",
      "            )\n",
      "          )\n",
      "          (output): BertOutput(\n",
      "            (dense): DynamicQuantizedLinear(\n",
      "              in_features=3072, out_features=768, qscheme=torch.per_tensor_affine\n",
      "              (_packed_params): LinearPackedParams()\n",
      "            )\n",
      "            (LayerNorm): LayerNorm((768,), eps=1e-12, elementwise_affine=True)\n",
      "            (dropout): Dropout(p=0.1, inplace=False)\n",
      "          )\n",
      "        )\n",
      "        (6): BertLayer(\n",
      "          (attention): BertAttention(\n",
      "            (self): BertSelfAttention(\n",
      "              (query): DynamicQuantizedLinear(\n",
      "                in_features=768, out_features=768, qscheme=torch.per_tensor_affine\n",
      "                (_packed_params): LinearPackedParams()\n",
      "              )\n",
      "              (key): DynamicQuantizedLinear(\n",
      "                in_features=768, out_features=768, qscheme=torch.per_tensor_affine\n",
      "                (_packed_params): LinearPackedParams()\n",
      "              )\n",
      "              (value): DynamicQuantizedLinear(\n",
      "                in_features=768, out_features=768, qscheme=torch.per_tensor_affine\n",
      "                (_packed_params): LinearPackedParams()\n",
      "              )\n",
      "              (dropout): Dropout(p=0.1, inplace=False)\n",
      "            )\n",
      "            (output): BertSelfOutput(\n",
      "              (dense): DynamicQuantizedLinear(\n",
      "                in_features=768, out_features=768, qscheme=torch.per_tensor_affine\n",
      "                (_packed_params): LinearPackedParams()\n",
      "              )\n",
      "              (LayerNorm): LayerNorm((768,), eps=1e-12, elementwise_affine=True)\n",
      "              (dropout): Dropout(p=0.1, inplace=False)\n",
      "            )\n",
      "          )\n",
      "          (intermediate): BertIntermediate(\n",
      "            (dense): DynamicQuantizedLinear(\n",
      "              in_features=768, out_features=3072, qscheme=torch.per_tensor_affine\n",
      "              (_packed_params): LinearPackedParams()\n",
      "            )\n",
      "          )\n",
      "          (output): BertOutput(\n",
      "            (dense): DynamicQuantizedLinear(\n",
      "              in_features=3072, out_features=768, qscheme=torch.per_tensor_affine\n",
      "              (_packed_params): LinearPackedParams()\n",
      "            )\n",
      "            (LayerNorm): LayerNorm((768,), eps=1e-12, elementwise_affine=True)\n",
      "            (dropout): Dropout(p=0.1, inplace=False)\n",
      "          )\n",
      "        )\n",
      "        (7): BertLayer(\n",
      "          (attention): BertAttention(\n",
      "            (self): BertSelfAttention(\n",
      "              (query): DynamicQuantizedLinear(\n",
      "                in_features=768, out_features=768, qscheme=torch.per_tensor_affine\n",
      "                (_packed_params): LinearPackedParams()\n",
      "              )\n",
      "              (key): DynamicQuantizedLinear(\n",
      "                in_features=768, out_features=768, qscheme=torch.per_tensor_affine\n",
      "                (_packed_params): LinearPackedParams()\n",
      "              )\n",
      "              (value): DynamicQuantizedLinear(\n",
      "                in_features=768, out_features=768, qscheme=torch.per_tensor_affine\n",
      "                (_packed_params): LinearPackedParams()\n",
      "              )\n",
      "              (dropout): Dropout(p=0.1, inplace=False)\n",
      "            )\n",
      "            (output): BertSelfOutput(\n",
      "              (dense): DynamicQuantizedLinear(\n",
      "                in_features=768, out_features=768, qscheme=torch.per_tensor_affine\n",
      "                (_packed_params): LinearPackedParams()\n",
      "              )\n",
      "              (LayerNorm): LayerNorm((768,), eps=1e-12, elementwise_affine=True)\n",
      "              (dropout): Dropout(p=0.1, inplace=False)\n",
      "            )\n",
      "          )\n",
      "          (intermediate): BertIntermediate(\n",
      "            (dense): DynamicQuantizedLinear(\n",
      "              in_features=768, out_features=3072, qscheme=torch.per_tensor_affine\n",
      "              (_packed_params): LinearPackedParams()\n",
      "            )\n",
      "          )\n",
      "          (output): BertOutput(\n",
      "            (dense): DynamicQuantizedLinear(\n",
      "              in_features=3072, out_features=768, qscheme=torch.per_tensor_affine\n",
      "              (_packed_params): LinearPackedParams()\n",
      "            )\n",
      "            (LayerNorm): LayerNorm((768,), eps=1e-12, elementwise_affine=True)\n",
      "            (dropout): Dropout(p=0.1, inplace=False)\n",
      "          )\n",
      "        )\n",
      "        (8): BertLayer(\n",
      "          (attention): BertAttention(\n",
      "            (self): BertSelfAttention(\n",
      "              (query): DynamicQuantizedLinear(\n",
      "                in_features=768, out_features=768, qscheme=torch.per_tensor_affine\n",
      "                (_packed_params): LinearPackedParams()\n",
      "              )\n",
      "              (key): DynamicQuantizedLinear(\n",
      "                in_features=768, out_features=768, qscheme=torch.per_tensor_affine\n",
      "                (_packed_params): LinearPackedParams()\n",
      "              )\n",
      "              (value): DynamicQuantizedLinear(\n",
      "                in_features=768, out_features=768, qscheme=torch.per_tensor_affine\n",
      "                (_packed_params): LinearPackedParams()\n",
      "              )\n",
      "              (dropout): Dropout(p=0.1, inplace=False)\n",
      "            )\n",
      "            (output): BertSelfOutput(\n",
      "              (dense): DynamicQuantizedLinear(\n",
      "                in_features=768, out_features=768, qscheme=torch.per_tensor_affine\n",
      "                (_packed_params): LinearPackedParams()\n",
      "              )\n",
      "              (LayerNorm): LayerNorm((768,), eps=1e-12, elementwise_affine=True)\n",
      "              (dropout): Dropout(p=0.1, inplace=False)\n",
      "            )\n",
      "          )\n",
      "          (intermediate): BertIntermediate(\n",
      "            (dense): DynamicQuantizedLinear(\n",
      "              in_features=768, out_features=3072, qscheme=torch.per_tensor_affine\n",
      "              (_packed_params): LinearPackedParams()\n",
      "            )\n",
      "          )\n",
      "          (output): BertOutput(\n",
      "            (dense): DynamicQuantizedLinear(\n",
      "              in_features=3072, out_features=768, qscheme=torch.per_tensor_affine\n",
      "              (_packed_params): LinearPackedParams()\n",
      "            )\n",
      "            (LayerNorm): LayerNorm((768,), eps=1e-12, elementwise_affine=True)\n",
      "            (dropout): Dropout(p=0.1, inplace=False)\n",
      "          )\n",
      "        )\n",
      "        (9): BertLayer(\n",
      "          (attention): BertAttention(\n",
      "            (self): BertSelfAttention(\n",
      "              (query): DynamicQuantizedLinear(\n",
      "                in_features=768, out_features=768, qscheme=torch.per_tensor_affine\n",
      "                (_packed_params): LinearPackedParams()\n",
      "              )\n",
      "              (key): DynamicQuantizedLinear(\n",
      "                in_features=768, out_features=768, qscheme=torch.per_tensor_affine\n",
      "                (_packed_params): LinearPackedParams()\n",
      "              )\n",
      "              (value): DynamicQuantizedLinear(\n",
      "                in_features=768, out_features=768, qscheme=torch.per_tensor_affine\n",
      "                (_packed_params): LinearPackedParams()\n",
      "              )\n",
      "              (dropout): Dropout(p=0.1, inplace=False)\n",
      "            )\n",
      "            (output): BertSelfOutput(\n",
      "              (dense): DynamicQuantizedLinear(\n",
      "                in_features=768, out_features=768, qscheme=torch.per_tensor_affine\n",
      "                (_packed_params): LinearPackedParams()\n",
      "              )\n",
      "              (LayerNorm): LayerNorm((768,), eps=1e-12, elementwise_affine=True)\n",
      "              (dropout): Dropout(p=0.1, inplace=False)\n",
      "            )\n",
      "          )\n",
      "          (intermediate): BertIntermediate(\n",
      "            (dense): DynamicQuantizedLinear(\n",
      "              in_features=768, out_features=3072, qscheme=torch.per_tensor_affine\n",
      "              (_packed_params): LinearPackedParams()\n",
      "            )\n",
      "          )\n",
      "          (output): BertOutput(\n",
      "            (dense): DynamicQuantizedLinear(\n",
      "              in_features=3072, out_features=768, qscheme=torch.per_tensor_affine\n",
      "              (_packed_params): LinearPackedParams()\n",
      "            )\n",
      "            (LayerNorm): LayerNorm((768,), eps=1e-12, elementwise_affine=True)\n",
      "            (dropout): Dropout(p=0.1, inplace=False)\n",
      "          )\n",
      "        )\n",
      "        (10): BertLayer(\n",
      "          (attention): BertAttention(\n",
      "            (self): BertSelfAttention(\n",
      "              (query): DynamicQuantizedLinear(\n",
      "                in_features=768, out_features=768, qscheme=torch.per_tensor_affine\n",
      "                (_packed_params): LinearPackedParams()\n",
      "              )\n",
      "              (key): DynamicQuantizedLinear(\n",
      "                in_features=768, out_features=768, qscheme=torch.per_tensor_affine\n",
      "                (_packed_params): LinearPackedParams()\n",
      "              )\n",
      "              (value): DynamicQuantizedLinear(\n",
      "                in_features=768, out_features=768, qscheme=torch.per_tensor_affine\n",
      "                (_packed_params): LinearPackedParams()\n",
      "              )\n",
      "              (dropout): Dropout(p=0.1, inplace=False)\n",
      "            )\n",
      "            (output): BertSelfOutput(\n",
      "              (dense): DynamicQuantizedLinear(\n",
      "                in_features=768, out_features=768, qscheme=torch.per_tensor_affine\n",
      "                (_packed_params): LinearPackedParams()\n",
      "              )\n",
      "              (LayerNorm): LayerNorm((768,), eps=1e-12, elementwise_affine=True)\n",
      "              (dropout): Dropout(p=0.1, inplace=False)\n",
      "            )\n",
      "          )\n",
      "          (intermediate): BertIntermediate(\n",
      "            (dense): DynamicQuantizedLinear(\n",
      "              in_features=768, out_features=3072, qscheme=torch.per_tensor_affine\n",
      "              (_packed_params): LinearPackedParams()\n",
      "            )\n",
      "          )\n",
      "          (output): BertOutput(\n",
      "            (dense): DynamicQuantizedLinear(\n",
      "              in_features=3072, out_features=768, qscheme=torch.per_tensor_affine\n",
      "              (_packed_params): LinearPackedParams()\n",
      "            )\n",
      "            (LayerNorm): LayerNorm((768,), eps=1e-12, elementwise_affine=True)\n",
      "            (dropout): Dropout(p=0.1, inplace=False)\n",
      "          )\n",
      "        )\n",
      "        (11): BertLayer(\n",
      "          (attention): BertAttention(\n",
      "            (self): BertSelfAttention(\n",
      "              (query): DynamicQuantizedLinear(\n",
      "                in_features=768, out_features=768, qscheme=torch.per_tensor_affine\n",
      "                (_packed_params): LinearPackedParams()\n",
      "              )\n",
      "              (key): DynamicQuantizedLinear(\n",
      "                in_features=768, out_features=768, qscheme=torch.per_tensor_affine\n",
      "                (_packed_params): LinearPackedParams()\n",
      "              )\n",
      "              (value): DynamicQuantizedLinear(\n",
      "                in_features=768, out_features=768, qscheme=torch.per_tensor_affine\n",
      "                (_packed_params): LinearPackedParams()\n",
      "              )\n",
      "              (dropout): Dropout(p=0.1, inplace=False)\n",
      "            )\n",
      "            (output): BertSelfOutput(\n",
      "              (dense): DynamicQuantizedLinear(\n",
      "                in_features=768, out_features=768, qscheme=torch.per_tensor_affine\n",
      "                (_packed_params): LinearPackedParams()\n",
      "              )\n",
      "              (LayerNorm): LayerNorm((768,), eps=1e-12, elementwise_affine=True)\n",
      "              (dropout): Dropout(p=0.1, inplace=False)\n",
      "            )\n",
      "          )\n",
      "          (intermediate): BertIntermediate(\n",
      "            (dense): DynamicQuantizedLinear(\n",
      "              in_features=768, out_features=3072, qscheme=torch.per_tensor_affine\n",
      "              (_packed_params): LinearPackedParams()\n",
      "            )\n",
      "          )\n",
      "          (output): BertOutput(\n",
      "            (dense): DynamicQuantizedLinear(\n",
      "              in_features=3072, out_features=768, qscheme=torch.per_tensor_affine\n",
      "              (_packed_params): LinearPackedParams()\n",
      "            )\n",
      "            (LayerNorm): LayerNorm((768,), eps=1e-12, elementwise_affine=True)\n",
      "            (dropout): Dropout(p=0.1, inplace=False)\n",
      "          )\n",
      "        )\n",
      "      )\n",
      "    )\n",
      "    (pooler): BertPooler(\n",
      "      (dense): DynamicQuantizedLinear(\n",
      "        in_features=768, out_features=768, qscheme=torch.per_tensor_affine\n",
      "        (_packed_params): LinearPackedParams()\n",
      "      )\n",
      "      (activation): Tanh()\n",
      "    )\n",
      "  )\n",
      "  (dropout): Dropout(p=0.1, inplace=False)\n",
      "  (classifier): DynamicQuantizedLinear(\n",
      "    in_features=768, out_features=2, qscheme=torch.per_tensor_affine\n",
      "    (_packed_params): LinearPackedParams()\n",
      "  )\n",
      ")\n"
     ]
    }
   ],
   "source": [
    "quantized_model = torch.quantization.quantize_dynamic(\n",
    "    model, {torch.nn.Linear}, dtype=torch.qint8\n",
    ")\n",
    "print(quantized_model)\n"
   ]
  },
  {
   "cell_type": "markdown",
   "metadata": {
    "id": "VXAb1bHcIgN-"
   },
   "source": [
    "## 3.1 Check the model size\n",
    "Let's first check the model size. We can observe a significant reduction in model size:"
   ]
  },
  {
   "cell_type": "code",
   "execution_count": null,
   "metadata": {
    "colab": {
     "base_uri": "https://localhost:8080/",
     "height": 50
    },
    "id": "9sTUmFJfIgN-",
    "outputId": "9e129ddd-bfca-4f76-bec7-b707ce342bdb"
   },
   "outputs": [
    {
     "name": "stdout",
     "output_type": "stream",
     "text": [
      "Size (MB): 437.980548\n",
      "Size (MB): 181.434838\n"
     ]
    }
   ],
   "source": [
    "def print_size_of_model(model):\n",
    "    torch.save(model.state_dict(), \"temp.p\")\n",
    "    print('Size (MB):', os.path.getsize(\"temp.p\")/1e6)\n",
    "    os.remove('temp.p')\n",
    "\n",
    "print_size_of_model(model)\n",
    "print_size_of_model(quantized_model)"
   ]
  },
  {
   "cell_type": "markdown",
   "metadata": {
    "id": "yZ0esT_qIgOC"
   },
   "source": [
    "The BERT model used in this tutorial (bert-base-uncased) has a vocabulary size V of 30522. With the embedding size of 768, the total size of the word embedding table is ~ 4 (Bytes/FP32) * 30522 * 768 = 90 MB. So with the help of quantization, the model size of the non-embedding table part is reduced from 350 MB (FP32 model) to 90 MB (INT8 model)."
   ]
  },
  {
   "cell_type": "markdown",
   "metadata": {
    "id": "Laj0oGh4ifxu"
   },
   "source": [
    "## 3.2 Evaluate the inference accuracy and time\n",
    "\n",
    "Next, let's compare the inference time as well as the evaluation accuracy between the original FP32 model and the INT8 model after the dynamic quantization."
   ]
  },
  {
   "cell_type": "code",
   "execution_count": null,
   "metadata": {
    "colab": {
     "base_uri": "https://localhost:8080/",
     "height": 66
    },
    "id": "foe-dVxHIgOC",
    "outputId": "6810bd84-4b83-4008-acba-2128ae5eec38"
   },
   "outputs": [
    {
     "name": "stderr",
     "output_type": "stream",
     "text": [
      "Evaluating: 100%|██████████| 51/51 [02:38<00:00,  3.09s/it]"
     ]
    },
    {
     "name": "stdout",
     "output_type": "stream",
     "text": [
      "{'acc': 0.8602941176470589, 'f1': 0.9018932874354562, 'acc_and_f1': 0.8810937025412575}\n",
      "Evaluate total time (seconds): 160.1\n"
     ]
    },
    {
     "name": "stderr",
     "output_type": "stream",
     "text": [
      "\n"
     ]
    }
   ],
   "source": [
    "def time_model_evaluation(model, configs, tokenizer):\n",
    "    eval_start_time = time.time()\n",
    "    result = evaluate(configs, model, tokenizer, prefix=\"\")\n",
    "    eval_end_time = time.time()\n",
    "    eval_duration_time = eval_end_time - eval_start_time\n",
    "    print(result)\n",
    "    print(\"Evaluate total time (seconds): {0:.1f}\".format(eval_duration_time))\n",
    "\n",
    "# Evaluate the original FP32 BERT model\n",
    "time_model_evaluation(model, configs, tokenizer)"
   ]
  },
  {
   "cell_type": "code",
   "execution_count": null,
   "metadata": {
    "colab": {
     "base_uri": "https://localhost:8080/",
     "height": 66
    },
    "id": "NdMd7b5aIgOE",
    "outputId": "de401b87-717e-4e5f-d246-3f2ce487bbdb"
   },
   "outputs": [
    {
     "name": "stderr",
     "output_type": "stream",
     "text": [
      "Evaluating: 100%|██████████| 51/51 [01:56<00:00,  2.31s/it]"
     ]
    },
    {
     "name": "stdout",
     "output_type": "stream",
     "text": [
      "{'acc': 0.8480392156862745, 'f1': 0.8952702702702703, 'acc_and_f1': 0.8716547429782724}\n",
      "Evaluate total time (seconds): 116.6\n"
     ]
    },
    {
     "name": "stderr",
     "output_type": "stream",
     "text": [
      "\n"
     ]
    }
   ],
   "source": [
    "# Evaluate the INT8 BERT model after the dynamic quantization\n",
    "time_model_evaluation(quantized_model, configs, tokenizer)"
   ]
  },
  {
   "cell_type": "markdown",
   "metadata": {
    "id": "KNIjvg9NIgOI"
   },
   "source": [
    "Running this locally on a MacBook Pro, without quantization, inference (for all 408 examples in MRPC dataset) takes about 160 seconds, and with quantization it takes just about 90 seconds. We summarize the results for running the quantized BERT model inference on a Macbook Pro as the follows:\n",
    "\n",
    "```\n",
    "| Prec | F1 score | Model Size | 1 thread | 4 threads | \n",
    "| FP32 |  0.9019  |   438 MB   | 160 sec  | 85 sec    |\n",
    "| INT8 |  0.8953  |   181 MB   |  90 sec  | 46 sec    |\n",
    "```\n",
    "\n",
    "We have 0.6% F1 score accuracy after applying the post-training dynamic quantization on the fine-tuned BERT model on the MRPC task. As a comparison, in a [recent paper](https://arxiv.org/pdf/1910.06188.pdf) (Table 1), it achieved 0.8788 by applying the post-training dynamic quantization and 0.8956 by applying the quantization-aware training. The main difference is that we support the asymmetric quantization in PyTorch while that paper supports the symmetric quantization only.\n",
    "\n",
    "Note that we set the number of threads to 1 for the single-thread comparison in this tutorial. We also support the intra-op parallelization for these quantized INT8 operators. The users can now set multi-thread by `torch.set_num_threads(N)` (`N` is the number of intra-op parallelization threads). One preliminary requirement to enable the intra-op parallelization support is to build PyTorch with the right [backend](https://pytorch.org/docs/stable/notes/cpu_threading_torchscript_inference.html#build-options) such as OpenMP, Native, or TBB. You can use `torch.__config__.parallel_info()` to check the parallelization settings. On the same MacBook Pro using PyTorch with Native backend for parallelization, we can get about 46 seconds for processing the evaluation of MRPC dataset."
   ]
  },
  {
   "cell_type": "markdown",
   "metadata": {
    "id": "cTQDJ8Y1syVm"
   },
   "source": [
    "## 3.3 Serialize the quantized model\n",
    "We can serialize and save the quantized model for the future use."
   ]
  },
  {
   "cell_type": "code",
   "execution_count": null,
   "metadata": {
    "id": "jZJH-Ln0IgOG"
   },
   "outputs": [],
   "source": [
    "quantized_output_dir = configs.output_dir + \"quantized/\"\n",
    "if not os.path.exists(quantized_output_dir):\n",
    "    os.makedirs(quantized_output_dir)\n",
    "    quantized_model.save_pretrained(quantized_output_dir)"
   ]
  },
  {
   "cell_type": "markdown",
   "metadata": {
    "id": "ZMKPDl8rIgOJ"
   },
   "source": [
    "# Conclusion\n",
    "In this tutorial, we demonstrated how to demonstrate how to convert a well-known state-of-the-art NLP model like BERT into dynamic quantized model. Dynamic quantization can reduce the size of the model while only having a limited implication on accuracy.\n",
    "\n",
    "Thanks for reading! As always, we welcome any feedback, so please create an issue [here](https://github.com/pytorch/pytorch/issues) if you have any."
   ]
  },
  {
   "cell_type": "markdown",
   "metadata": {
    "id": "QfnTjseZdnvu"
   },
   "source": [
    "# References\n",
    "[1] J.Devlin, M. Chang, K. Lee and K. Toutanova, [BERT: Pre-training of Deep Bidirectional Transformers for Language Understanding](https://arxiv.org/pdf/1810.04805.pdf) (2018)\n",
    "\n",
    "[2] [HuggingFace Transformers](https://github.com/huggingface/transformers).\n",
    "\n",
    "[3] O. Zafrir, G. Boudoukh, P. Izsak, & M. Wasserblat (2019). [Q8BERT: Quantized 8bit BERT](https://arxiv.org/pdf/1910.06188.pdf).\n",
    "\n"
   ]
  },
  {
   "cell_type": "markdown",
   "metadata": {
    "id": "g049cwB-IgOJ"
   },
   "source": []
  },
  {
   "cell_type": "code",
   "execution_count": null,
   "metadata": {
    "id": "8IywQkvCIgOK"
   },
   "outputs": [],
   "source": []
  }
 ],
 "metadata": {
  "anp_cloned_from": {
   "notebook_id": "700375763812832",
   "revision_id": "390006458366428"
  },
  "bento_stylesheets": {
   "bento/extensions/flow/main.css": true,
   "bento/extensions/kernel_selector/main.css": true,
   "bento/extensions/kernel_ui/main.css": true,
   "bento/extensions/new_kernel/main.css": true,
   "bento/extensions/system_usage/main.css": true,
   "bento/extensions/theme/main.css": true
  },
  "colab": {
   "collapsed_sections": [],
   "name": "(experimental) Dynamic Quantization on BERT.ipynb",
   "provenance": []
  },
  "disseminate_notebook_id": {
   "notebook_id": "736675493480417"
  },
  "disseminate_notebook_info": {
   "bento_version": "20191111-000215",
   "description": "BERT tutorial for OSS",
   "hide_code": false,
   "hipster_group": "",
   "kernel_build_info": {
    "deps": [
     "//aml/integrity_solutions/bento:library"
    ],
    "external_deps": []
   },
   "no_uii": true,
   "notebook_number": "173786",
   "others_can_edit": false,
   "reviewers": "",
   "revision_id": "2665524713486279",
   "tags": "",
   "tasks": "",
   "title": "Dynamic Quantization on HuggingFace BERT model"
  },
  "kernelspec": {
   "display_name": "Python 3",
   "language": "python",
   "name": "python3"
  },
  "language_info": {
   "codemirror_mode": {
    "name": "ipython",
    "version": 3
   },
   "file_extension": ".py",
   "mimetype": "text/x-python",
   "name": "python",
   "nbconvert_exporter": "python",
   "pygments_lexer": "ipython3",
   "version": "3.8.3"
  }
 },
 "nbformat": 4,
 "nbformat_minor": 4
}
